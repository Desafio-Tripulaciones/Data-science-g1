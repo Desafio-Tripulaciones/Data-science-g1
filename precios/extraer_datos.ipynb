{
 "cells": [
  {
   "cell_type": "code",
   "execution_count": 1,
   "metadata": {},
   "outputs": [],
   "source": [
    "import pandas as pd\n"
   ]
  },
  {
   "cell_type": "code",
   "execution_count": 2,
   "metadata": {},
   "outputs": [],
   "source": [
    "fila_inicial_fijo = 1\n",
    "fila_inicial_indexado = 3\n",
    "\n",
    "fijo = pd.read_excel('datos/precios_luz.xlsx', sheet_name='FIJO', skiprows=fila_inicial_fijo).iloc[:,2:]\n",
    "indexado_energia = pd.read_excel('datos/precios_luz.xlsx', sheet_name='INDEXADO', skiprows=fila_inicial_indexado).iloc[:,1:12]\n",
    "indexado_potencia = pd.read_excel('datos/precios_luz.xlsx', sheet_name='INDEXADO', skiprows=fila_inicial_indexado).iloc[:,13:24]\n",
    "indexado_potencia = indexado_potencia.dropna()\n",
    "\n",
    "nombres_columnas_energia = ['SISTEMA', 'TARIFA', 'CIA', 'MES', 'FEE', 'P1.', 'P2.', 'P3.', 'P4.', 'P5.', 'P6.']\n",
    "nombres_columnas_potencia = ['SISTEMA', 'CIA', 'PRODUCTO', 'PRODUCTO_CIA', 'TARIFA', 'P1', 'P2', 'P3', 'P4', 'P5', 'P6']\n",
    "nombres_columnas_energia = [elemento.lower() for elemento in nombres_columnas_energia]\n",
    "nombres_columnas_potencia = [elemento.lower() for elemento in nombres_columnas_potencia]\n",
    "\n",
    "\n",
    "# Asigna los nombres de las columnas a los DataFrames\n",
    "indexado_energia.columns = nombres_columnas_energia\n",
    "indexado_potencia.columns = nombres_columnas_potencia\n"
   ]
  },
  {
   "cell_type": "code",
   "execution_count": 3,
   "metadata": {},
   "outputs": [],
   "source": [
    "columns_to_convert = ['P1.', 'P2.', 'P3.', 'P4.', 'P5.', 'P6.']\n",
    "\n",
    "for column in columns_to_convert:\n",
    "    fijo[column] = pd.to_numeric(fijo[column], errors='coerce')"
   ]
  },
  {
   "cell_type": "code",
   "execution_count": 4,
   "metadata": {},
   "outputs": [],
   "source": [
    "'''def modificar_producto(fila):\n",
    "    if fila['cia'] == 'AEQ':\n",
    "        return f\"{fila['producto cia']}_fee{fila['fee']}\"\n",
    "    else:\n",
    "        return fila['producto cia']'''"
   ]
  },
  {
   "cell_type": "code",
   "execution_count": 5,
   "metadata": {},
   "outputs": [],
   "source": [
    "'''fijo['producto cia'] = fijo.apply(modificar_producto, axis=1)'''"
   ]
  },
  {
   "cell_type": "code",
   "execution_count": 6,
   "metadata": {},
   "outputs": [],
   "source": [
    "'''fijo = fijo.drop('fee', axis=1)'''"
   ]
  },
  {
   "cell_type": "code",
   "execution_count": 4,
   "metadata": {},
   "outputs": [],
   "source": [
    "fijo = fijo.rename(columns={'producto cia': 'producto_cia'})"
   ]
  },
  {
   "cell_type": "code",
   "execution_count": 5,
   "metadata": {},
   "outputs": [],
   "source": [
    "fijo.dropna(inplace=True)\n",
    "indexado_energia.dropna(inplace=True)\n",
    "indexado_potencia.dropna(inplace=True)"
   ]
  },
  {
   "cell_type": "code",
   "execution_count": 6,
   "metadata": {},
   "outputs": [
    {
     "name": "stdout",
     "output_type": "stream",
     "text": [
      "<class 'pandas.core.frame.DataFrame'>\n",
      "Index: 898 entries, 0 to 917\n",
      "Data columns (total 18 columns):\n",
      " #   Column        Non-Null Count  Dtype  \n",
      "---  ------        --------------  -----  \n",
      " 0   sistema       898 non-null    object \n",
      " 1   cia           898 non-null    object \n",
      " 2   producto      898 non-null    object \n",
      " 3   producto_cia  898 non-null    object \n",
      " 4   tarifa        898 non-null    object \n",
      " 5   fee           898 non-null    object \n",
      " 6   P1            898 non-null    float64\n",
      " 7   P2            898 non-null    float64\n",
      " 8   P3            898 non-null    float64\n",
      " 9   P4            898 non-null    float64\n",
      " 10  P5            898 non-null    float64\n",
      " 11  P6            898 non-null    float64\n",
      " 12  P1.           898 non-null    float64\n",
      " 13  P2.           898 non-null    float64\n",
      " 14  P3.           898 non-null    float64\n",
      " 15  P4.           898 non-null    float64\n",
      " 16  P5.           898 non-null    float64\n",
      " 17  P6.           898 non-null    float64\n",
      "dtypes: float64(12), object(6)\n",
      "memory usage: 133.3+ KB\n"
     ]
    }
   ],
   "source": [
    "fijo.info()"
   ]
  },
  {
   "cell_type": "code",
   "execution_count": 8,
   "metadata": {},
   "outputs": [],
   "source": [
    "fijo = fijo.rename(columns={'P1':'p1','P2':'p2','P3':'p3','P4':'p4','P5':'p5','P6':'p6','P1.':'p1_','P2.':'p2_','P3.':'p3_','P4.':'p4_','P5.':'p5_','P6.':'p6_'})\n",
    "indexado_energia = indexado_energia.rename(columns={'p1.':'p1_','p2.':'p2_','p3.':'p3_','p4.':'p4_','p5.':'p5_','p6.':'p6_'})\n",
    "indexado_potencia = indexado_potencia.rename(columns={'p1':'p1','p2':'p2','p3':'p3','p4':'p4','p5':'p5','p6':'p6'})"
   ]
  },
  {
   "cell_type": "code",
   "execution_count": 9,
   "metadata": {},
   "outputs": [],
   "source": [
    "fijo.to_csv('datos/fijo.csv',index=False)\n",
    "indexado_energia.to_csv('datos/indexado_energia.csv',index=False)\n",
    "indexado_potencia.to_csv('datos/indexado_potencia.csv',index=False)"
   ]
  },
  {
   "cell_type": "code",
   "execution_count": 10,
   "metadata": {},
   "outputs": [
    {
     "data": {
      "text/html": [
       "<div>\n",
       "<style scoped>\n",
       "    .dataframe tbody tr th:only-of-type {\n",
       "        vertical-align: middle;\n",
       "    }\n",
       "\n",
       "    .dataframe tbody tr th {\n",
       "        vertical-align: top;\n",
       "    }\n",
       "\n",
       "    .dataframe thead th {\n",
       "        text-align: right;\n",
       "    }\n",
       "</style>\n",
       "<table border=\"1\" class=\"dataframe\">\n",
       "  <thead>\n",
       "    <tr style=\"text-align: right;\">\n",
       "      <th></th>\n",
       "      <th>sistema</th>\n",
       "      <th>cia</th>\n",
       "      <th>producto</th>\n",
       "      <th>producto_cia</th>\n",
       "      <th>tarifa</th>\n",
       "      <th>fee</th>\n",
       "      <th>p1</th>\n",
       "      <th>p2</th>\n",
       "      <th>p3</th>\n",
       "      <th>p4</th>\n",
       "      <th>p5</th>\n",
       "      <th>p6</th>\n",
       "      <th>p1_</th>\n",
       "      <th>p2_</th>\n",
       "      <th>p3_</th>\n",
       "      <th>p4_</th>\n",
       "      <th>p5_</th>\n",
       "      <th>p6_</th>\n",
       "    </tr>\n",
       "  </thead>\n",
       "  <tbody>\n",
       "    <tr>\n",
       "      <th>0</th>\n",
       "      <td>PENINSULA</td>\n",
       "      <td>ACCIONA</td>\n",
       "      <td>FIJO</td>\n",
       "      <td>CIERZO</td>\n",
       "      <td>2.0TD</td>\n",
       "      <td>-</td>\n",
       "      <td>0.088121</td>\n",
       "      <td>0.01957</td>\n",
       "      <td>0.0</td>\n",
       "      <td>0.0</td>\n",
       "      <td>0.0</td>\n",
       "      <td>0.0</td>\n",
       "      <td>0.355703</td>\n",
       "      <td>0.304626</td>\n",
       "      <td>0.265992</td>\n",
       "      <td>0.0</td>\n",
       "      <td>0.0</td>\n",
       "      <td>0.0</td>\n",
       "    </tr>\n",
       "  </tbody>\n",
       "</table>\n",
       "</div>"
      ],
      "text/plain": [
       "     sistema      cia producto producto_cia tarifa fee        p1       p2  \\\n",
       "0  PENINSULA  ACCIONA     FIJO       CIERZO  2.0TD   -  0.088121  0.01957   \n",
       "\n",
       "    p3   p4   p5   p6       p1_       p2_       p3_  p4_  p5_  p6_  \n",
       "0  0.0  0.0  0.0  0.0  0.355703  0.304626  0.265992  0.0  0.0  0.0  "
      ]
     },
     "execution_count": 10,
     "metadata": {},
     "output_type": "execute_result"
    }
   ],
   "source": [
    "fijo.head(1)"
   ]
  },
  {
   "cell_type": "code",
   "execution_count": 11,
   "metadata": {},
   "outputs": [
    {
     "data": {
      "text/html": [
       "<div>\n",
       "<style scoped>\n",
       "    .dataframe tbody tr th:only-of-type {\n",
       "        vertical-align: middle;\n",
       "    }\n",
       "\n",
       "    .dataframe tbody tr th {\n",
       "        vertical-align: top;\n",
       "    }\n",
       "\n",
       "    .dataframe thead th {\n",
       "        text-align: right;\n",
       "    }\n",
       "</style>\n",
       "<table border=\"1\" class=\"dataframe\">\n",
       "  <thead>\n",
       "    <tr style=\"text-align: right;\">\n",
       "      <th></th>\n",
       "      <th>sistema</th>\n",
       "      <th>tarifa</th>\n",
       "      <th>cia</th>\n",
       "      <th>mes</th>\n",
       "      <th>fee</th>\n",
       "      <th>p1_</th>\n",
       "      <th>p2_</th>\n",
       "      <th>p3_</th>\n",
       "      <th>p4_</th>\n",
       "      <th>p5_</th>\n",
       "      <th>p6_</th>\n",
       "    </tr>\n",
       "  </thead>\n",
       "  <tbody>\n",
       "    <tr>\n",
       "      <th>0</th>\n",
       "      <td>BALEARES</td>\n",
       "      <td>2.0TD</td>\n",
       "      <td>ACCIONA</td>\n",
       "      <td>2023-06-01</td>\n",
       "      <td>Cierzo</td>\n",
       "      <td>0.212767</td>\n",
       "      <td>0.165975</td>\n",
       "      <td>0.142781</td>\n",
       "      <td>0.0</td>\n",
       "      <td>0.0</td>\n",
       "      <td>0.0</td>\n",
       "    </tr>\n",
       "  </tbody>\n",
       "</table>\n",
       "</div>"
      ],
      "text/plain": [
       "    sistema tarifa      cia        mes     fee       p1_       p2_       p3_  \\\n",
       "0  BALEARES  2.0TD  ACCIONA 2023-06-01  Cierzo  0.212767  0.165975  0.142781   \n",
       "\n",
       "   p4_  p5_  p6_  \n",
       "0  0.0  0.0  0.0  "
      ]
     },
     "execution_count": 11,
     "metadata": {},
     "output_type": "execute_result"
    }
   ],
   "source": [
    "indexado_energia.head(1)"
   ]
  },
  {
   "cell_type": "code",
   "execution_count": 12,
   "metadata": {},
   "outputs": [
    {
     "data": {
      "text/html": [
       "<div>\n",
       "<style scoped>\n",
       "    .dataframe tbody tr th:only-of-type {\n",
       "        vertical-align: middle;\n",
       "    }\n",
       "\n",
       "    .dataframe tbody tr th {\n",
       "        vertical-align: top;\n",
       "    }\n",
       "\n",
       "    .dataframe thead th {\n",
       "        text-align: right;\n",
       "    }\n",
       "</style>\n",
       "<table border=\"1\" class=\"dataframe\">\n",
       "  <thead>\n",
       "    <tr style=\"text-align: right;\">\n",
       "      <th></th>\n",
       "      <th>sistema</th>\n",
       "      <th>cia</th>\n",
       "      <th>producto</th>\n",
       "      <th>producto_cia</th>\n",
       "      <th>tarifa</th>\n",
       "      <th>p1</th>\n",
       "      <th>p2</th>\n",
       "      <th>p3</th>\n",
       "      <th>p4</th>\n",
       "      <th>p5</th>\n",
       "      <th>p6</th>\n",
       "    </tr>\n",
       "  </thead>\n",
       "  <tbody>\n",
       "    <tr>\n",
       "      <th>0</th>\n",
       "      <td>BALEARES</td>\n",
       "      <td>ACCIONA</td>\n",
       "      <td>INDEXADO</td>\n",
       "      <td>CIERZO</td>\n",
       "      <td>2.0TD</td>\n",
       "      <td>0.088121</td>\n",
       "      <td>0.01957</td>\n",
       "      <td>0.0</td>\n",
       "      <td>0.0</td>\n",
       "      <td>0.0</td>\n",
       "      <td>0.0</td>\n",
       "    </tr>\n",
       "  </tbody>\n",
       "</table>\n",
       "</div>"
      ],
      "text/plain": [
       "    sistema      cia  producto producto_cia tarifa        p1       p2   p3  \\\n",
       "0  BALEARES  ACCIONA  INDEXADO       CIERZO  2.0TD  0.088121  0.01957  0.0   \n",
       "\n",
       "    p4   p5   p6  \n",
       "0  0.0  0.0  0.0  "
      ]
     },
     "execution_count": 12,
     "metadata": {},
     "output_type": "execute_result"
    }
   ],
   "source": [
    "indexado_potencia.head(1)"
   ]
  },
  {
   "cell_type": "code",
   "execution_count": 13,
   "metadata": {},
   "outputs": [
    {
     "data": {
      "text/plain": [
       "379"
      ]
     },
     "execution_count": 13,
     "metadata": {},
     "output_type": "execute_result"
    }
   ],
   "source": [
    "from sqlalchemy import create_engine\n",
    "import psycopg2\n",
    "\n",
    "user = 'postgres'\n",
    "password = 'DesafioNG1'\n",
    "host = '35.241.146.138'\n",
    "port = '5432' \n",
    "database = 'postgres'\n",
    "\n",
    "connection_string = f'postgresql://{user}:{password}@{host}:{port}/{database}'\n",
    "engine = create_engine(connection_string)\n",
    "\n",
    "\n",
    "fijo.to_sql('precios_fijo', con=engine, if_exists='replace', index=False)\n",
    "\n",
    "\n",
    "indexado_energia.to_sql('precios_index_energia', con=engine, if_exists='replace', index=False)\n",
    "\n",
    "\n",
    "indexado_potencia.to_sql('precios_index_potencia', con=engine, if_exists='replace', index=False)\n"
   ]
  }
 ],
 "metadata": {
  "kernelspec": {
   "display_name": "Python 3",
   "language": "python",
   "name": "python3"
  },
  "language_info": {
   "codemirror_mode": {
    "name": "ipython",
    "version": 3
   },
   "file_extension": ".py",
   "mimetype": "text/x-python",
   "name": "python",
   "nbconvert_exporter": "python",
   "pygments_lexer": "ipython3",
   "version": "3.11.5"
  }
 },
 "nbformat": 4,
 "nbformat_minor": 2
}
