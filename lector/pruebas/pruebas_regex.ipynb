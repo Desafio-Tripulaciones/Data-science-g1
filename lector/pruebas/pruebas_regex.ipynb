{
 "cells": [
  {
   "cell_type": "code",
   "execution_count": 1,
   "metadata": {},
   "outputs": [],
   "source": [
    "import pandas as pd"
   ]
  },
  {
   "cell_type": "code",
   "execution_count": 8,
   "metadata": {},
   "outputs": [],
   "source": [
    "import pdfplumber\n",
    "#Función para extraer el pdf a texto plano\n",
    "def extract_text_from_pdf(pdf_path):\n",
    "    text = \"\"\n",
    "    with pdfplumber.open(pdf_path) as pdf:\n",
    "        for page in pdf.pages:\n",
    "            text += page.extract_text()\n",
    "\n",
    "    return text\n",
    "\n",
    "#introducimos el archivo a leer\n",
    "pdf_path = '1704799941222.pdf'\n",
    "pdf_text = extract_text_from_pdf(pdf_path)\n",
    "\n",
    "#print(pdf_text)"
   ]
  },
  {
   "cell_type": "code",
   "execution_count": 9,
   "metadata": {},
   "outputs": [
    {
     "name": "stdout",
     "output_type": "stream",
     "text": [
      "   Potencia  Energía  Descuentos  Otros  Impuestos  Total\n",
      "0     10.91     0.81       -1.77   1.83       2.56  48.92\n"
     ]
    }
   ],
   "source": [
    "import re\n",
    "import pandas as pd\n",
    "\n",
    "#Extracción de los datos en formato dataframe\n",
    "datos = {\n",
    "    'Potencia': None,\n",
    "    'Energía': None,\n",
    "    'Descuentos': None,\n",
    "    'Otros': None,\n",
    "    'Impuestos': None,\n",
    "    'Total': None\n",
    "}\n",
    "\n",
    "\n",
    "lineas = pdf_text.split('\\n')\n",
    "for i, linea in enumerate(lineas):\n",
    "    if 'Potencia' in linea:\n",
    "        match = re.search(r'([\\d\\.,-]+)\\s€', linea)\n",
    "        datos['Potencia'] = float(match.group(1).replace(',', '.')) if match else None\n",
    "    elif 'Energía' in linea:\n",
    "        match = re.search(r'([\\d\\.,-]+)\\s€', linea)\n",
    "        datos['Energía'] = float(match.group(1).replace(',', '.')) if match else None\n",
    "    elif 'Descuentos' in linea:\n",
    "        match = re.search(r'([\\d\\.,-]+)\\s€', linea)\n",
    "        datos['Descuentos'] = float(match.group(1).replace(',', '.')) if match else None\n",
    "    elif 'Otros' in linea:\n",
    "        match = re.search(r'([\\d\\.,-]+)\\s€', linea)\n",
    "        datos['Otros'] = float(match.group(1).replace(',', '.')) if match else None\n",
    "    elif 'Impuestos' in linea:\n",
    "        match = re.search(r'([\\d\\.,-]+)\\s€', linea)\n",
    "        datos['Impuestos'] = float(match.group(1).replace(',', '.')) if match else None\n",
    "    elif 'Total' in linea:\n",
    "        match = re.search(r'([\\d\\.,-]+)\\s€', linea)\n",
    "        datos['Total'] = float(match.group(1).replace(',', '.')) if match else None\n",
    "\n",
    "\n",
    "df = pd.DataFrame([datos])\n",
    "\n",
    "print(df)"
   ]
  },
  {
   "cell_type": "code",
   "execution_count": 10,
   "metadata": {},
   "outputs": [],
   "source": [
    "datos = {\n",
    "    'Potencia': None,\n",
    "    'Pot.Punta': None,\n",
    "    'Pot.Valle': None,\n",
    "    'Energía': None,\n",
    "    'Descuentos': None,\n",
    "    'Otros': None,\n",
    "    'Impuestos': None,\n",
    "    'Total': None\n",
    "}\n",
    "\n",
    "# Procesar el texto línea por línea\n",
    "lineas = pdf_text.split('\\n')\n",
    "for i, linea in enumerate(lineas):\n",
    "    if 'Potencia' in linea:\n",
    "        match = re.search(r'Potencia\\s+([\\d\\.,-]+)\\s€', linea)\n",
    "        datos['Potencia'] = float(match.group(1).replace(',', '.')) if match else None\n",
    "    elif 'Pot.Punta' in linea:\n",
    "        match = re.search(r'Pot\\.Punta\\s+[\\d\\.,-]+\\s+kW x ([\\d\\.,-]+)\\s+Eur/kW', linea)\n",
    "        datos['Pot.Punta'] = float(match.group(1).replace(',', '.')) if match else None\n",
    "    elif 'Pot.Valle' in linea:\n",
    "        match = re.search(r'Pot\\.Valle\\s+[\\d\\.,-]+\\s+kW x ([\\d\\.,-]+)\\s+Eur/kW', linea)\n",
    "        datos['Pot.Valle'] = float(match.group(1).replace(',', '.')) if match else None\n",
    "    elif 'Energía' in linea:\n",
    "        match = re.search(r'Consumo\\s+[\\d\\.,-]+\\s+kW x ([\\d\\.,-]+)\\s+Eur/kW', linea)\n",
    "        datos['Energía'] = float(match.group(1).replace(',', '.')) if match else None\n",
    "    elif 'Total' in linea:\n",
    "        match = re.search(r'Total\\s+([\\d\\.,-]+)\\s€', linea)\n",
    "        datos['Total'] = float(match.group(1).replace(',', '.')) if match else None\n",
    "\n",
    "# Crear DataFrame \n",
    "df = pd.DataFrame([datos])\n",
    "\n"
   ]
  },
  {
   "cell_type": "code",
   "execution_count": 11,
   "metadata": {},
   "outputs": [
    {
     "data": {
      "text/html": [
       "<div>\n",
       "<style scoped>\n",
       "    .dataframe tbody tr th:only-of-type {\n",
       "        vertical-align: middle;\n",
       "    }\n",
       "\n",
       "    .dataframe tbody tr th {\n",
       "        vertical-align: top;\n",
       "    }\n",
       "\n",
       "    .dataframe thead th {\n",
       "        text-align: right;\n",
       "    }\n",
       "</style>\n",
       "<table border=\"1\" class=\"dataframe\">\n",
       "  <thead>\n",
       "    <tr style=\"text-align: right;\">\n",
       "      <th></th>\n",
       "      <th>Potencia</th>\n",
       "      <th>Pot.Punta</th>\n",
       "      <th>Pot.Valle</th>\n",
       "      <th>Energía</th>\n",
       "      <th>Descuentos</th>\n",
       "      <th>Otros</th>\n",
       "      <th>Impuestos</th>\n",
       "      <th>Total</th>\n",
       "    </tr>\n",
       "  </thead>\n",
       "  <tbody>\n",
       "    <tr>\n",
       "      <th>0</th>\n",
       "      <td>10.91</td>\n",
       "      <td>0.091973</td>\n",
       "      <td>0.026099</td>\n",
       "      <td>None</td>\n",
       "      <td>None</td>\n",
       "      <td>None</td>\n",
       "      <td>None</td>\n",
       "      <td>48.92</td>\n",
       "    </tr>\n",
       "  </tbody>\n",
       "</table>\n",
       "</div>"
      ],
      "text/plain": [
       "   Potencia  Pot.Punta  Pot.Valle Energía Descuentos Otros Impuestos  Total\n",
       "0     10.91   0.091973   0.026099    None       None  None      None  48.92"
      ]
     },
     "execution_count": 11,
     "metadata": {},
     "output_type": "execute_result"
    }
   ],
   "source": [
    "df"
   ]
  },
  {
   "cell_type": "code",
   "execution_count": 12,
   "metadata": {},
   "outputs": [
    {
     "name": "stdout",
     "output_type": "stream",
     "text": [
      "Consumo: 125\n",
      "Precio Energia: 0.283081\n"
     ]
    }
   ],
   "source": [
    "import re\n",
    "\n",
    "patron = re.compile(r'Facturación del Consumo (\\d+) kWh x ([\\d\\.,-]+)\\s+Eur/kWh')\n",
    "\n",
    "coincidencia = patron.search(pdf_text)\n",
    "\n",
    "if coincidencia:\n",
    "    consumo = int(coincidencia.group(1))\n",
    "    precio_energia = float(coincidencia.group(2).replace(',', '.'))\n",
    "\n",
    "    print(\"Consumo:\", consumo)\n",
    "    print(\"Precio Energia:\", precio_energia)\n",
    "else:\n",
    "    print(\"No se encontraron coincidencias.\")"
   ]
  },
  {
   "cell_type": "code",
   "execution_count": 13,
   "metadata": {},
   "outputs": [
    {
     "name": "stdout",
     "output_type": "stream",
     "text": [
      "Potencia: 3.3\n",
      "Precio punta: 0.091973\n",
      "Días: 28\n"
     ]
    }
   ],
   "source": [
    "\n",
    "patron = re.compile(r'Pot\\.Punta ([\\d\\.,-]+) kW x ([\\d\\.,-]+)\\s+Eur/kW x (\\d+) días')\n",
    "\n",
    "coincidencia = patron.search(pdf_text)\n",
    "\n",
    "if coincidencia:\n",
    "    potencia = float(coincidencia.group(1).replace(',', '.'))\n",
    "    precio_punta = float(coincidencia.group(2).replace(',', '.'))\n",
    "    dias = int(coincidencia.group(3))\n",
    "\n",
    "    print(\"Potencia:\", potencia)\n",
    "    print(\"Precio punta:\", precio_punta)\n",
    "    print(\"Días:\", dias)\n",
    "else:\n",
    "    print(\"No se encontraron coincidencias para Pot.Punta.\")"
   ]
  },
  {
   "cell_type": "code",
   "execution_count": 14,
   "metadata": {},
   "outputs": [
    {
     "name": "stdout",
     "output_type": "stream",
     "text": [
      "Precio Valle: 0.026099\n"
     ]
    }
   ],
   "source": [
    "patron = re.compile(r'Pot\\.Valle [\\d\\.,-]+ kW x ([\\d\\.,-]+)\\s+Eur/kW')\n",
    "\n",
    "coincidencia = patron.search(pdf_text)\n",
    "\n",
    "if coincidencia:\n",
    "    precio_valle = float(coincidencia.group(1).replace(',', '.'))\n",
    "    print(\"Precio Valle:\", precio_valle)\n",
    "else:\n",
    "    print(\"No se encontraron coincidencias\")"
   ]
  },
  {
   "cell_type": "code",
   "execution_count": 15,
   "metadata": {},
   "outputs": [
    {
     "name": "stdout",
     "output_type": "stream",
     "text": [
      "Precio Valle: 0.026099\n"
     ]
    }
   ],
   "source": [
    "patron = re.compile(r'Valle [\\d\\.,-]+ kW x ([\\d\\.,-]+)\\s+Eur/kW')\n",
    "\n",
    "coincidencia = patron.search(pdf_text)\n",
    "\n",
    "if coincidencia:\n",
    "    precio_valle = float(coincidencia.group(1).replace(',', '.'))\n",
    "    print(\"Precio Valle:\", precio_valle)\n",
    "else:\n",
    "    print(\"No se encontraron coincidencias\")"
   ]
  },
  {
   "cell_type": "code",
   "execution_count": 16,
   "metadata": {},
   "outputs": [
    {
     "name": "stdout",
     "output_type": "stream",
     "text": [
      "No se encontraron coincidencias para Pot.Punta.\n"
     ]
    }
   ],
   "source": [
    "patron = re.compile(r'Punta ([\\d\\.,-]+) kW x ([\\d\\.,-]+)\\s+/kW x (\\d+) día')\n",
    "\n",
    "coincidencia = patron.search(pdf_text)\n",
    "\n",
    "if coincidencia:\n",
    "    potencia = coincidencia.group(1)\n",
    "    precio_punta = coincidencia.group(2)\n",
    "    dias = int(coincidencia.group(3))\n",
    "\n",
    "    print(\"Potencia:\", potencia)\n",
    "    print(\"Precio punta:\", precio_punta)\n",
    "    print(\"Días:\", dias)\n",
    "else:\n",
    "    print(\"No se encontraron coincidencias para Pot.Punta.\")"
   ]
  },
  {
   "cell_type": "code",
   "execution_count": 17,
   "metadata": {},
   "outputs": [
    {
     "name": "stdout",
     "output_type": "stream",
     "text": [
      "Frase encontrada: Punta 3,3 kW x 0,091973\n",
      "Precio Punta: 0.091973\n"
     ]
    }
   ],
   "source": [
    "import re\n",
    "\n",
    "patron = r'\\bPunta\\b.*?(\\d+\\,\\d{6})'\n",
    "\n",
    "resultado = re.search(patron, pdf_text)\n",
    "\n",
    "if resultado:\n",
    "    frase_completa = resultado.group()\n",
    "    precio_punta = float(resultado.group(1).replace(',', '.'))\n",
    "    \n",
    "    print(\"Frase encontrada:\", frase_completa)\n",
    "    print(\"Precio Punta:\", precio_punta)\n",
    "    \n",
    "else:\n",
    "    print(\"No se encontró ninguna coincidencia.\")"
   ]
  },
  {
   "cell_type": "code",
   "execution_count": 18,
   "metadata": {},
   "outputs": [
    {
     "name": "stdout",
     "output_type": "stream",
     "text": [
      "Frase encontrada: Valle 3,3 kW x 0,026099\n",
      "Precio Valle: 0.026099\n"
     ]
    }
   ],
   "source": [
    "patron = r'\\bValle\\b.*?(\\d+\\,\\d{6})'\n",
    "\n",
    "resultado = re.search(patron, pdf_text)\n",
    "\n",
    "if resultado:\n",
    "    frase_completa = resultado.group()\n",
    "    precio_valle = float(resultado.group(1).replace(',', '.'))\n",
    "    \n",
    "    print(\"Frase encontrada:\", frase_completa)\n",
    "    print(\"Precio Valle:\", precio_valle)\n",
    "    \n",
    "else:\n",
    "    print(\"No se encontró ninguna coincidencia.\")"
   ]
  },
  {
   "cell_type": "code",
   "execution_count": 19,
   "metadata": {},
   "outputs": [
    {
     "name": "stdout",
     "output_type": "stream",
     "text": [
      "Precio Alquiler: 0.026786\n"
     ]
    }
   ],
   "source": [
    "patron = r'\\bAlquiler\\b.*?(\\d+\\,\\d{6})'\n",
    "\n",
    "resultado = re.search(patron, pdf_text)\n",
    "\n",
    "if resultado:\n",
    "    #frase_completa = resultado.group()\n",
    "    precio_valle = float(resultado.group(1).replace(',', '.'))\n",
    "    \n",
    "    #print(\"Frase encontrada:\", frase_completa)\n",
    "    print(\"Precio Alquiler:\", precio_valle)\n",
    "    \n",
    "else:\n",
    "    print(\"No se encontró ninguna coincidencia.\")"
   ]
  },
  {
   "cell_type": "code",
   "execution_count": 20,
   "metadata": {},
   "outputs": [
    {
     "name": "stdout",
     "output_type": "stream",
     "text": [
      "Dias: 28\n"
     ]
    }
   ],
   "source": [
    "\n",
    "patron = r'\\b(\\d{2})\\s*días\\b'\n",
    "\n",
    "resultado = re.search(patron, pdf_text)\n",
    "\n",
    "if resultado:\n",
    "    #frase_completa = resultado.group()\n",
    "    dias = int(resultado.group(1))\n",
    "    \n",
    "    #print(\"Frase encontrada:\", frase_completa)\n",
    "    print(\"Dias:\", dias)\n",
    "    \n",
    "else:\n",
    "    print(\"No se encontró ninguna coincidencia.\")"
   ]
  },
  {
   "cell_type": "code",
   "execution_count": 22,
   "metadata": {},
   "outputs": [
    {
     "name": "stdout",
     "output_type": "stream",
     "text": [
      "2.56\n"
     ]
    }
   ],
   "source": [
    "\n",
    "\n",
    "lineas = pdf_text.split('\\n')\n",
    "for i, linea in enumerate(lineas):\n",
    "    if 'Impuestos' in linea:\n",
    "        match = re.search(r'([\\d\\.,-]+)\\s€', linea)\n",
    "        impuestos = float(match.group(1).replace(',', '.')) if match else None\n",
    "\n",
    "print(impuestos)"
   ]
  },
  {
   "cell_type": "code",
   "execution_count": null,
   "metadata": {},
   "outputs": [],
   "source": [
    "from flask import Flask, request, jsonify\n",
    "import pdfplumber\n",
    "import re\n",
    "import os\n",
    "from werkzeug.utils import secure_filename\n",
    "\n",
    "\n",
    "app = Flask(__name__)\n",
    "\n",
    "UPLOAD_FOLDER = os.path.join(os.path.dirname(os.path.abspath(__file__)), 'uploads')\n",
    "ALLOWED_EXTENSIONS = {'pdf'}\n",
    "\n",
    "app.config['UPLOAD_FOLDER'] = UPLOAD_FOLDER\n",
    "\n",
    "def allowed_file(filename):\n",
    "    return '.' in filename and filename.rsplit('.', 1)[1].lower() in ALLOWED_EXTENSIONS\n",
    "\n",
    "def extract_text_from_pdf(pdf_content):\n",
    "    text = \"\"\n",
    "    with pdfplumber.open(pdf_content) as pdf:\n",
    "        for page in pdf.pages:\n",
    "            text += page.extract_text()\n",
    "    return text\n",
    "@app.route(\"/\", methods=['GET'])\n",
    "def hello():\n",
    "    return \"Bienvenido a mi API\"\n",
    "\n",
    "\n",
    "@app.route('/subir_pdf', methods=['POST'])\n",
    "def subir_pdf():\n",
    "    \n",
    "    \n",
    "    # Verifica si se ha enviado un archivo PDF\n",
    "    if 'file' not in request.files:\n",
    "        return jsonify({\"error\": \"No se ha proporcionado un archivo PDF\"}), 400\n",
    "\n",
    "    pdf_file = request.files['file']\n",
    "\n",
    "    # Verifica si el archivo tiene una extensión válida\n",
    "    if not pdf_file.filename.endswith('.pdf'):\n",
    "        return jsonify({\"error\": \"El archivo no tiene la extensión PDF\"}), 400\n",
    "\n",
    "    try:\n",
    "        if pdf_file and allowed_file(pdf_file.filename):\n",
    "            filename = secure_filename(pdf_file.filename)\n",
    "            pdf_file.save(os.path.join(app.config['UPLOAD_FOLDER'], filename))\n",
    "            return jsonify({\"mensaje\": \"Archivo subido exitosamente\"}), 200\n",
    "\n",
    "    except Exception as e:\n",
    "        return jsonify({\"error\": str(e)}), 500\n",
    "\n",
    "@app.route('/descargar_pdf/<filename>', methods=['GET'])\n",
    "def descargar_pdf(filename):\n",
    "    return send_from_directory(app.config['UPLOAD_FOLDER'], filename, as_attachment=True)\n",
    "\n",
    "@app.route('/procesar_pdf', methods=['POST'])\n",
    "def procesar_pdf():\n",
    "    # Verifica si se ha enviado un archivo PDF\n",
    "    if 'file' not in request.files:\n",
    "        return jsonify({\"error\": \"No se ha proporcionado un archivo PDF\"}), 400\n",
    "\n",
    "    pdf_file = request.files['file']\n",
    "\n",
    "    # Verifica si el archivo tiene una extensión válida\n",
    "    if not pdf_file.filename.endswith('.pdf'):\n",
    "        return jsonify({\"error\": \"El archivo no tiene la extensión PDF\"}), 400\n",
    "\n",
    "    try:\n",
    "        pdf_text = extract_text_from_pdf(pdf_file)\n",
    "        \n",
    "        #Patrón consumo y precio energia\n",
    "\n",
    "        patron = re.compile(r'Facturación del Consumo (\\d+) kWh x ([\\d\\.,-]+)\\s+Eur/kWh')\n",
    "        coincidencia = patron.search(pdf_text)\n",
    "\n",
    "        consumo = int(coincidencia.group(1)) if coincidencia else None\n",
    "        precio_energia = float(coincidencia.group(2).replace(',', '.')) if coincidencia else None\n",
    "        \n",
    "\n",
    "        #Patrón para dias    \n",
    "        patron2 = r'\\b(\\d{2})\\s*días\\b'\n",
    "        resultado = re.search(patron2, pdf_text) \n",
    "\n",
    "        dias = int(resultado.group(1)) if resultado else None\n",
    "\n",
    "        #Patrón alquiler\n",
    "        patron3 = r'\\bAlquiler\\b.*?(\\d+\\,\\d{6})'\n",
    "\n",
    "        resultado3 = re.search(patron3, pdf_text)\n",
    "        precio_alquiler = float(resultado3.group(1).replace(',', '.')) if resultado3 else None\n",
    "            \n",
    "        #Patrón Valle\n",
    "\n",
    "        patron4 = r'\\bValle\\s+(\\d+\\,\\d{1,2})\\s+kW.*?(\\d+\\,\\d{6})'\n",
    "        resultado4 = re.search(patron4, pdf_text)\n",
    "\n",
    "        potencia = float(resultado4.group(1).replace(',', '.')) if resultado4 else None\n",
    "        precio_valle = float(resultado4.group(2).replace(',', '.')) if resultado4 else None\n",
    "\n",
    "        #Patrón Punta\n",
    "                \n",
    "        patron5 = r'\\bPunta\\b.*?(\\d+\\,\\d{6})'\n",
    "\n",
    "        resultado5 = re.search(patron5, pdf_text)\n",
    "                \n",
    "        precio_punta = float(resultado5.group(1).replace(',', '.')) if resultado5 else None\n",
    "            \n",
    "        # Patrón descuento\n",
    "\n",
    "        patron6 = r'Descuentos\\s+(-?\\d+\\,\\d{1,2})\\s+€' \n",
    "        resultado6 = re.search(patron6, pdf_text)  \n",
    "\n",
    "        descuento = float(resultado6.group(1).replace(',', '.')) if resultado6 else None\n",
    "\n",
    "        # Patrón Otros\n",
    "\n",
    "        patron7 = r'Otros\\s+(-?\\d+\\,\\d{1,2})\\s+€' \n",
    "        resultado7 = re.search(patron7, pdf_text)  \n",
    "\n",
    "        otros = float(resultado7.group(1).replace(',', '.')) if resultado7 else None\n",
    "                    \n",
    "        # Devuelve los resultados como JSON\n",
    "        return jsonify({'Consumo': consumo,\n",
    "                'precio energia': precio_energia,\n",
    "                'Dias': dias,\n",
    "                'Precio Alquiler': precio_alquiler,\n",
    "                'Precio valle': precio_valle,\n",
    "                'precio Punta': precio_punta,\n",
    "                'Potencia': potencia,\n",
    "                'Descuentos' : descuento ,\n",
    "                'Otros' : otros,\n",
    "                }), 200\n",
    "\n",
    "    except Exception as e:\n",
    "        return jsonify({\"error\": str(e)}), 500\n",
    "\n",
    "if __name__ == '__main__':\n",
    "    app.run(debug=True)"
   ]
  }
 ],
 "metadata": {
  "kernelspec": {
   "display_name": "Python 3",
   "language": "python",
   "name": "python3"
  },
  "language_info": {
   "codemirror_mode": {
    "name": "ipython",
    "version": 3
   },
   "file_extension": ".py",
   "mimetype": "text/x-python",
   "name": "python",
   "nbconvert_exporter": "python",
   "pygments_lexer": "ipython3",
   "version": "3.11.5"
  }
 },
 "nbformat": 4,
 "nbformat_minor": 2
}
