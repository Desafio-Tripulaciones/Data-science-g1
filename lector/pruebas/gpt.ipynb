{
 "cells": [
  {
   "cell_type": "code",
   "execution_count": 1,
   "metadata": {},
   "outputs": [],
   "source": [
    "import pdfplumber\n",
    "\n",
    "def extract_text_from_pdf(pdf_path):\n",
    "    text = \"\"\n",
    "    with pdfplumber.open(pdf_path) as pdf:\n",
    "        for page in pdf.pages:\n",
    "            text += page.extract_text()\n",
    "\n",
    "    return text\n",
    "\n",
    "# poner aqui la ruta de tu archivo\n",
    "pdf_path = '1704799941222.pdf'\n",
    "pdf_text = extract_text_from_pdf(pdf_path)\n",
    "lines = pdf_text.split('\\n')\n",
    "lines_to_keep = lines[15:-25]\n",
    "pdf_text = '\\n'.join(lines_to_keep)\n",
    "\n",
    "\n",
    "#print(pdf_text)"
   ]
  },
  {
   "cell_type": "code",
   "execution_count": 2,
   "metadata": {},
   "outputs": [
    {
     "data": {
      "text/plain": [
       "2"
      ]
     },
     "execution_count": 2,
     "metadata": {},
     "output_type": "execute_result"
    }
   ],
   "source": [
    "import pdfplumber\n",
    "\n",
    "def extract_text_from_pdf(pdf_path):\n",
    "    text = \"\"\n",
    "    with pdfplumber.open(pdf_path) as pdf:\n",
    "        for page in pdf.pages:\n",
    "            text += page.extract_text()\n",
    "\n",
    "    return text\n",
    "\n",
    "def chunk_text(text, max_tokens=3500):\n",
    "    chunks = [text[i:i+max_tokens] for i in range(0, len(text), max_tokens)]\n",
    "    return chunks\n",
    "\n",
    "# Ruta del archivo\n",
    "pdf_path = '1704799941222.pdf'\n",
    "pdf_text = extract_text_from_pdf(pdf_path)\n",
    "lines = pdf_text.split('\\n')\n",
    "lines_to_keep = lines[15:-25]\n",
    "pdf_text = '\\n'.join(lines_to_keep)\n",
    "\n",
    "# Dividir el texto en partes de máximo 4000 tokens\n",
    "text_chunks = chunk_text(pdf_text)\n",
    "\n",
    "# Mostrar la lista de partes\n",
    "#print(text_chunks)\n",
    "len(text_chunks)"
   ]
  },
  {
   "cell_type": "code",
   "execution_count": null,
   "metadata": {},
   "outputs": [],
   "source": [
    "for i, chunk in enumerate(text_chunks):\n",
    "    print(f\"Trozo {i + 1}:\", chunk)"
   ]
  },
  {
   "cell_type": "code",
   "execution_count": 3,
   "metadata": {},
   "outputs": [
    {
     "ename": "SyntaxError",
     "evalue": "invalid syntax (2463506640.py, line 1)",
     "output_type": "error",
     "traceback": [
      "\u001b[1;36m  Cell \u001b[1;32mIn[3], line 1\u001b[1;36m\u001b[0m\n\u001b[1;33m    openai migrate\u001b[0m\n\u001b[1;37m           ^\u001b[0m\n\u001b[1;31mSyntaxError\u001b[0m\u001b[1;31m:\u001b[0m invalid syntax\n"
     ]
    }
   ],
   "source": [
    "# API key de OpenAI\n",
    "openai.api_key = '********'"
   ]
  },
  {
   "cell_type": "code",
   "execution_count": null,
   "metadata": {},
   "outputs": [],
   "source": [
    "from dotenv import load_dotenv\n",
    "import os\n",
    "import openai\n",
    "\n",
    "load_dotenv()\n",
    "openai.api_key = \"***********\"\n",
    "\n",
    "GPT_SYS_PROMPT = \"Eres un buscador de datos dentro de un texto.Te pasare un texto y necesito que me busques datos concretos y me devuelvas esos datos en formato dias : 'valor numerico de dias' potencia : valor numerico de potencia y asi con las preguntas que haga\"\n",
    "\n",
    "\n",
    "# Guarda un historial de CHAT_HISTORY_LENGHT mensajes para usarlos como memoria de la conversación\n",
    "chat_history = []\n",
    "def add_chat_history(gpt_user_prompt):\n",
    "    \n",
    "    chat_history.append(gpt_user_prompt)\n",
    "\n",
    "def chat(gpt_user_prompt):\n",
    "    add_chat_history({\"role\": \"user\", \"content\": gpt_user_prompt})\n",
    "    \n",
    "    # Recupera el historial de mensajes y le agrega el system prompt\n",
    "    prompt = chat_history.copy()\n",
    "    prompt.insert(0, {\"role\": \"system\", \"content\": f\"{GPT_SYS_PROMPT}\"})\n",
    "\n",
    "    # Realiza la consulta al servicio de chatgpt\n",
    "    completion = openai.ChatCompletion.create(\n",
    "        model=\"gpt-3.5-turbo\",\n",
    "        messages=prompt\n",
    "    )\n",
    "    gpt_assistant_answer = completion.choices[0].message.content\n",
    "\n",
    "    add_chat_history({\"role\": \"assistant\", \"content\": gpt_assistant_answer})\n",
    "\n",
    "    return gpt_assistant_answer\n",
    "\n",
    "print(\"¡Realiza una pregunta sobre el PDF!\")\n",
    "\n",
    "user_message = \"Necesito que me des el valor de los dias de facturacion, el dato de potencia contratada, no la potencia demandada, el precio de las tarifas de potencia  que aparece en un dato con 6 decimales y seguido de kw/h, tambien el dato de kw consumidos y el precio que tambien viene en formato de 6 decimales seguido de eur/kW\"\n",
    "user_message_with_pdf = f\"{user_message}\\n\\n{pdf_text}\"\n",
    "chatgpt_message = chat(user_message_with_pdf)\n",
    "print(chatgpt_message)"
   ]
  },
  {
   "cell_type": "code",
   "execution_count": 41,
   "metadata": {},
   "outputs": [
    {
     "data": {
      "text/plain": [
       "[{'role': 'user',\n",
       "  'content': 'Eres un buscador de datos dentro de una factura de electricidad. Necesito que encuentres los siguientes datos y me los devuelvas en formato JSON: Días facturados, Precio por kW de la potencia, Potencia contratada por el usuario, Consumo total de la factura en kWh\\n\\n¿Cómo pagar esta factura?\\n(cid:342)(cid:280)(cid:308)(cid:308)(cid:308)(cid:280)(cid:342)(cid:215)(cid:294)(cid:263)(cid:336)(cid:281)(cid:296)(cid:321)(cid:334)(cid:305)(cid:340)(cid:311)(cid:236)(cid:285)(cid:300)(cid:229)(cid:258)(cid:255)(cid:262)(cid:293)(cid:310)(cid:245)(cid:274)(cid:297)(cid:264)(cid:215)(cid:334)(cid:267)(cid:244)(cid:331)(cid:254)(cid:217)(cid:310)(cid:221)(cid:304)(cid:307)(cid:300)(cid:255)(cid:270)(cid:293)(cid:306)(cid:269)(cid:218)(cid:255)(cid:300)(cid:331)(cid:322)(cid:299)(cid:340)(cid:321)(cid:264)(cid:299)(cid:302)(cid:279)(cid:292)(cid:215)(cid:342)(cid:280)(cid:308)(cid:308)(cid:308)(cid:280)(cid:342)\\nNº DE CONTRATO:722131010 En nuestra web (cid:266)(cid:228)(cid:242)(cid:238)(cid:249)(cid:240)(cid:257)(cid:272)(cid:313)(cid:279)(cid:309)(cid:229)(cid:306)(cid:246)(cid:260)(cid:265)(cid:322)(cid:324)(cid:231)(cid:289)(cid:334)(cid:306)(cid:221)(cid:236)(cid:298)(cid:316)(cid:263)(cid:298)(cid:255)(cid:261)(cid:317)(cid:223)(cid:322)(cid:256)(cid:253)(cid:247)(cid:331)(cid:220)(cid:246)(cid:317)(cid:304)(cid:245)(cid:282)(cid:239)(cid:330)(cid:246)(cid:251)(cid:313)(cid:250)(cid:244)(cid:306)(cid:313)(cid:332)(cid:306)(cid:232)(cid:219)(cid:333)(cid:253)(cid:315)(cid:301)(cid:240)(cid:277)(cid:276)(cid:277)(cid:256)(cid:265)(cid:223)(cid:244)(cid:263)\\npagosonline.iberdrola.es, Mi Área (cid:222) (cid:254)(cid:262) (cid:292)(cid:261) (cid:247)(cid:216) (cid:246)(cid:328) (cid:315)(cid:305) (cid:246)(cid:300) (cid:257)(cid:215) (cid:329)(cid:332) (cid:283)(cid:283) (cid:326)(cid:247) (cid:264)(cid:268) (cid:295)(cid:328) (cid:323)(cid:317) (cid:270)(cid:239) (cid:295)(cid:306) (cid:342)(cid:340) (cid:282)(cid:238) (cid:282)(cid:261) (cid:232)(cid:290) (cid:302)(cid:289) (cid:309)(cid:243) (cid:277)(cid:233) (cid:338)(cid:267) (cid:228)(cid:226) (cid:254)(cid:277) (cid:271)(cid:227) (cid:244)(cid:322) (cid:307)(cid:253) (cid:241)(cid:240) (cid:287)(cid:328) (cid:293)(cid:270) (cid:304)(cid:243) (cid:291)(cid:224) (cid:269)(cid:333) (cid:336)(cid:289) (cid:236)(cid:272) (cid:216)(cid:329) (cid:266)(cid:313) (cid:333)(cid:259) (cid:318)(cid:293) (cid:250)(cid:305) (cid:332)(cid:339) (cid:332)(cid:331) (cid:222)(cid:330) (cid:245)(cid:248) (cid:286)(cid:297) (cid:266)(cid:308) (cid:260)(cid:240) (cid:240)(cid:282) (cid:259)(cid:338) (cid:293)(cid:272) (cid:264)(cid:229) (cid:313)(cid:290) (cid:227)(cid:240) (cid:285)(cid:291) (cid:238)(cid:222) (cid:288)(cid:254) (cid:259)(cid:297) (cid:224)(cid:340) (cid:237)(cid:241) (cid:316)(cid:330) (cid:255)(cid:248) (cid:317)(cid:308) (cid:323)(cid:311) (cid:311)(cid:234) (cid:283)(cid:304) (cid:283)(cid:286) (cid:341)(cid:274) (cid:224)\\nCliente y la APP mediante tarjeta de (cid:218)(cid:284)(cid:273)(cid:266)(cid:286)(cid:339)(cid:300)(cid:315)(cid:286)(cid:284)(cid:263)(cid:310)(cid:265)(cid:326)(cid:249)(cid:319)(cid:306)(cid:328)(cid:280)(cid:234)(cid:232)(cid:313)(cid:280)(cid:247)(cid:329)(cid:315)(cid:246)(cid:251)(cid:280)(cid:266)(cid:285)(cid:319)(cid:270)(cid:259)(cid:244)(cid:251)(cid:286)(cid:292)(cid:254)(cid:302)(cid:271)(cid:302)(cid:329)(cid:281)(cid:323)(cid:325)(cid:287)(cid:340)(cid:339)(cid:267)(cid:314)(cid:325)(cid:263)(cid:334)(cid:270)(cid:297)(cid:315)(cid:265)(cid:308)(cid:287)(cid:270)(cid:227)(cid:268)(cid:283)(cid:238)(cid:314)(cid:265)(cid:326)(cid:286)\\n(cid:261)(cid:319)(cid:275)(cid:310)(cid:327)(cid:265)(cid:257)(cid:277)(cid:314)(cid:337)(cid:238)(cid:255)(cid:250)(cid:263)(cid:241)(cid:225)(cid:287)(cid:318)(cid:227)(cid:333)(cid:'},\n",
       " {'role': 'assistant',\n",
       "  'content': 'Lo siento, pero como modelo de lenguaje de IA, no tengo acceso a datos en tiempo real ni puedo realizar búsquedas en internet. Mi función es generar respuestas basadas en el conocimiento previo que he adquirido.'},\n",
       " {'role': 'user',\n",
       "  'content': 'Eres un buscador de datos dentro de una factura de electricidad. Necesito que encuentres los siguientes datos y me los devuelvas en formato JSON: Días facturados, Precio por kW de la potencia, Potencia contratada por el usuario, Consumo total de la factura en kWh\\n\\n257)(cid:277)(cid:254)(cid:296)(cid:237)(cid:287)(cid:230)(cid:324)(cid:323)(cid:321)(cid:257)(cid:281)(cid:321)(cid:278)(cid:263)(cid:274)(cid:322)(cid:315)(cid:270)(cid:325)(cid:308)(cid:308)(cid:240)(cid:307)(cid:265)(cid:316)(cid:293)(cid:245)(cid:269)(cid:313)(cid:304)(cid:333)(cid:216)(cid:242)(cid:242)(cid:335)(cid:333)(cid:268)(cid:247)(cid:236)(cid:325)(cid:268)(cid:253)(cid:273)(cid:323)(cid:271)(cid:239)(cid:242)(cid:295)\\ncrédito/débito o BIZUM. (cid:263)(cid:269)(cid:311)(cid:229)(cid:319)(cid:247)(cid:300)(cid:319)(cid:276)(cid:308)(cid:293)(cid:338)(cid:305)(cid:305)(cid:310)(cid:264)(cid:316)(cid:255)(cid:250)(cid:296)(cid:281)(cid:314)(cid:289)(cid:304)(cid:320)(cid:280)(cid:285)(cid:258)(cid:269)(cid:257)(cid:300)(cid:224)(cid:260)(cid:306)(cid:256)(cid:287)(cid:251)(cid:265)(cid:230)(cid:330)(cid:315)(cid:263)(cid:241)(cid:271)(cid:330)(cid:302)(cid:250)(cid:332)(cid:240)(cid:316)(cid:239)(cid:230)(cid:253)(cid:326)(cid:289)(cid:289)(cid:338)(cid:227)(cid:328)(cid:319)(cid:337)(cid:308)(cid:255)(cid:262)(cid:314)(cid:228)(cid:288)(cid:244)(cid:218)\\nPuedes acceder a través del siguiente (cid:275)(cid:247)(cid:263)(cid:263)(cid:309)(cid:266)(cid:257)(cid:224)(cid:216)(cid:281)(cid:303)(cid:341)(cid:315)(cid:266)(cid:323)(cid:329)(cid:257)(cid:270)(cid:265)(cid:314)(cid:238)(cid:251)(cid:283)(cid:294)(cid:219)(cid:324)(cid:328)(cid:299)(cid:256)(cid:335)(cid:244)(cid:227)(cid:215)(cid:256)(cid:252)(cid:321)(cid:285)(cid:286)(cid:323)(cid:292)(cid:282)(cid:337)(cid:318)(cid:242)(cid:342)(cid:327)(cid:216)(cid:281)(cid:240)(cid:233)(cid:307)(cid:257)(cid:334)(cid:331)(cid:284)(cid:271)(cid:260)(cid:321)(cid:319)(cid:315)(cid:324)(cid:257)(cid:291)(cid:267)(cid:223)(cid:341)(cid:282)(cid:274)(cid:308)\\n(cid:244)(cid:312)(cid:232)(cid:220)(cid:236)(cid:232)(cid:300)(cid:311)(cid:218)(cid:239)(cid:229)(cid:315)(cid:256)(cid:228)(cid:231)(cid:325)(cid:320)(cid:293)(cid:232)(cid:215)(cid:274)(cid:221)(cid:337)(cid:339)(cid:248)(cid:342)(cid:246)(cid:255)(cid:227)(cid:290)(cid:307)(cid:326)(cid:286)(cid:307)(cid:260)(cid:283)(cid:334)(cid:219)(cid:266)(cid:294)(cid:320)(cid:269)(cid:333)(cid:232)(cid:340)(cid:314)(cid:215)(cid:280)(cid:323)(cid:338)(cid:274)(cid:339)(cid:225)(cid:268)(cid:218)(cid:249)(cid:307)(cid:314)(cid:287)(cid:218)(cid:342)(cid:291)(cid:316)(cid:251)(cid:230)(cid:236)(cid:282)(cid:334)(cid:283)\\ncódigo QR: (cid:341)(cid:217)(cid:273)(cid:273)(cid:273)(cid:217)(cid:341)(cid:215)(cid:249)(cid:219)(cid:337)(cid:215)(cid:321)(cid:307)(cid:239)(cid:251)(cid:293)(cid:291)(cid:275)(cid:313)(cid:219)(cid:251)(cid:331)(cid:331)(cid:269)(cid:309)(cid:217)(cid:227)(cid:251)(cid:301)(cid:259)(cid:317)(cid:333)(cid:273)(cid:251)(cid:249)(cid:341)(cid:223)(cid:305)(cid:265)(cid:239)(cid:247)(cid:271)(cid:239)(cid:229)(cid:265)(cid:291)(cid:313)(cid:341)(cid:315)(cid:281)(cid:255)(cid:295)(cid:255)(cid:307)(cid:253)(cid:333)(cid:271)(cid:315)(cid:249)(cid:315)(cid:267)(cid:263)(cid:251)(cid:323)(cid:235)(cid:223)(cid:327)(cid:233)\\nRESUMEN DE FACTURA A través del teléfono de Atención al cliente 24 horas,\\nmediante tarjeta de crédito/débito.\\nEn cualquiera de las oficinas o cajeros automáticos BBVA,\\nPERIODO DE FACTURACIÓN: Nº FACTURA: BANKIA, KUTXABANK, SANTANDER o SERVICAIXA con el talón\\nde pagos de este documento.\\n25/07/2023 - 24/08/2023 21230906010200645\\nMediante transferencia bancaria indicando en el concepto su\\nDIAS FACTURADOS: FECHA DE EMISIÓN: referencia de contrato.\\n30 6 de septiembre de 2023\\nRecuerde que para su comodi'},\n",
       " {'role': 'assistant',\n",
       "  'content': 'Lo siento, pero como modelo de lenguaje de IA, no tengo acceso a datos en tiempo real ni puedo realizar búsquedas en internet. Mi función es generar respuestas basadas en el conocimiento previo que he adquirido. No puedo buscar datos específicos dentro de un texto o generar un formato JSON con la información solicitada.'},\n",
       " {'role': 'user',\n",
       "  'content': 'Eres un buscador de datos dentro de una factura de electricidad. Necesito que encuentres los siguientes datos y me los devuelvas en formato JSON: Días facturados, Precio por kW de la potencia, Potencia contratada por el usuario, Consumo total de la factura en kWh\\n\\ndad puede domiciliar sus facturas a\\ntravés de Mi Área Cliente, en el apartado de Mis Gestiones.\\nENERGÍA.............................................................................80,81 €\\nCARGOS NORMATIVOS...................................................1,15 €\\nSERVICIOS Y OTROS CONCEPTOS..........................8,40 € Le informamos que la energía consumida es 100% renovable,\\ncertificada con Garantías de Origen emitidas por la CNMC.\\nIVA...........................................................................................5,74 €\\nCon esta factura usted acumula en su ChequeAhorro de El Club\\nCarrefour un importe de 4,4 €, lo remitiremos en los próximos días a\\n96,10€\\nTOTAL Carrefour para que se lo incorpore en su tarjeta. Puede consultar las\\ncondiciones de la promoción en\\nhttps://www.iberdrola.es/informacion/bases-legales-carrefour o\\nsolicitar información a través de nuestros canales de atención al\\nFECHA LÍMITE DE PAGO: 26/09/2023 cliente.\\nRecuerde que ya ha acumulado 84,93 € correspondientes a este\\ncontrato en su ChequeAhorro Carrefour desde la activación de la\\npromoción en 24/02/2021\\n¿LE PODEMOS AYUDAR?\\nps\\nwww.iberdrola.es clientes@tuiberdrola.es\\nAtención al Cliente Notificación\\n900 225 235 de averías en la zona\\nAPP Iberdrola Clientes\\n91 919 52 73\\n900333999\\nReparaciones UFD Distribución de\\nOficina de Atención Iberdrola: eléctricas del hogar Electricidad, S.A.\\nCALLE PUENTELARRA 5 28031 MADRID 900 22 45 22\\nCALLE JOSE PRAT 16 28032 MADRID 91 919 52 74\\nTALÓN DE PAGOS\\nEmisora Referencia Identificación IMPORTE\\n95758389-001 0072213101038 060923 96,10€\\n(cid:213)(cid:198)(cid:158)(cid:187)(cid:165)(cid:166)(cid:146)(cid:198)(cid:109)(cid:108)(cid:180)(cid:129)(cid:139)(cid:109)(cid:111)(cid:188)(cid:168)(cid:200)(cid:138)(cid:108)(cid:108)(cid:117)(cid:169)(cid:108)(cid:133)(cid:214)\\n9050795758389001007221310103806092300000096100\\n1/4\\n98385759-A\\nFIC\\n- ª1\\nnóicpircsni\\n,18936-IB\\najoh\\n,91\\noilof\\n,8445\\nomot\\n,aiakziB\\ned\\nlitnacreM\\nortsigeR\\nle ne\\natircsni\\n;oabliB\\n90084\\n,5\\nidaksuE\\nazalP\\n:laicos\\noilicimod\\n;dirdaM\\n33082\\n,1\\nodnodeR\\nsámoT\\n/C\\n:lacsif\\noilicimod\\n- .U.A.S\\n,SETNEILC\\nALORDREBI\\nrop\\noditime\\notnemucoDINFORMACIÓN SOBRE CONSUMO\\nEVOLUCIÓN DE CONSUMO (kWh)\\n600 258 kWh 3,20 € 2,62 €\\n450\\n300 Consumo total de Consumo medio diario Consumo medio diario\\nesta factura. en esta factura. en los últimos 14 meses.\\n150\\nPuede consultar el detalle de su consumo hora a hora en Mi Área Cliente en www.iberdrola.es\\ny en la APP de Iberdrola Clientes. También puede acceder a los datos de medida de su\\nkWh\\nJn. Jl. Ag. St. Oc. Nv. Dc. En. Fb. Mr. Ab. My. Jn. Jl. Ag. contador inteligente a través de la web de su empresa distribuidora\\n22 22 22 22 22 22 22 23 23 23 23 23 23 23 23 https://areaprivada.unionfenosadistribucion.com.\\nHORAS PROMOCIONADAS HORAS NO PROMOCIONADAS\\nCONSUMOS\\nPeriodo promocionado: 163,08 kWh Periodo no promocionado: 94,92 kWh Total: 258 kWh\\nDDEETTAALLLLEE DDEE FFAACCTTUURRAA\\nENERGÍA\\nPotencia facturada Punta 3,4 kW x 30 días x 0,087156 €/kW día 8,89 €\\nValle 3,4 kW x 30 días x 0,015812 €/kW día 1,61 €\\nTotal importe potencia hasta 24/08/2023 10,50 €\\nEnergía consumida Horas no promocionadas 94,92 kWh x 0,305748 €/kWh 29,02 €\\nHoras promocionadas 163,08 kWh x 0,250698 €/kWh 40,88 €\\nTotal 258 kWh hasta 24/08/2023 69,90 €\\nCARGOS NORMATIVOS\\nFinanciación bono social fijo 30 días x 0,038455 €/día 1,15 €\\nImpuesto sobre electricidad (*) 0,5% s/81,55 € 0,41 €\\nTOTAL ENERGÍA 81,96 €\\nSERVICIOS Y OTROS CONCEPTOS\\nAlquiler equipos medida 30 días x 0,02663014 €/día 0,80 €\\nProtecci'},\n",
       " {'role': 'assistant',\n",
       "  'content': '{\\n  \"Días facturados\": 30,\\n  \"Precio por kW de la potencia\": {\\n    \"Punta\": 0.087156,\\n    \"Valle\": 0.015812\\n  },\\n  \"Potencia contratada por el usuario\": {\\n    \"Punta\": 3.4,\\n    \"Valle\": 3.4\\n  },\\n  \"Consumo total de la factura en kWh\": 258\\n}'},\n",
       " {'role': 'user',\n",
       "  'content': 'Eres un buscador de datos dentro de una factura de electricidad. Necesito que encuentres los siguientes datos y me los devuelvas en formato JSON: Días facturados, Precio por kW de la potencia, Potencia contratada por el usuario, Consumo total de la factura en kWh\\n\\nón Eléctrica Hogar Plus 0,97 mes x 7,83 €/mes 7,60 €\\nTOTAL SERVICIOS Y OTROS CONCEPTOS 8,40 €\\nIMPORTE TOTAL 90,36 €\\nIVA Reducido (*) 5% s/82,76 € 4,14 €\\nIVA 21% s/7,6 € 1,60 €\\nTOTAL IMPORTE FACTURA 96,10 €\\nINFORMACION ADICIONAL\\nEl 10,9% está\\nNIF titular del contrato: Y6983931H\\ndestinado a\\nNº contador: 040276462 impuestos y cargos Energía 77,0%\\nPeaje de acceso a la red (ATR): 2.0TD Peajes de Transporte y Distribución 10,1%\\nPrecios de peajes de acceso: B.O.E. del 22/12/2022 Impuestos 6,4%\\nFecha final del contrato: 20/02/2024 Alquiler contador 0,8%\\nEmpresa distribuidora: UFD Distribución de Electricidad, S.A. 10,1% Bono Social 1,2%\\nNúmero de contrato de acceso: 001001084261 6,4% Cargos 4,5%\\nIdentificación punto de suministro (CUPS): ES 0022 0000 0890 1010 DC 0,8% Renovables, cogeneración y residuos 0,0%\\n4,5% Anualidades del déficit 3,6%\\nSobrecoste generación no peninsular 0,8%\\n1,2%\\nOtros 0,1%\\n77,0%\\nCertificado PEFC. Este papel procede de bosques gestionados de forma sostenible y fuentes controladas. www.pefc.es 2/4\\n(cid:444)(cid:381)(cid:343)(cid:353)(cid:412)(cid:443)\\n83000196Le informamos que la energía consumida es 100% renovable, certificada con Garantías de Origen emitidas por la CNMC.\\nCon esta factura usted acumula en su ChequeAhorro de El Club Carrefour un importe de 4,4 €, lo remitiremos en los próximos días a Carrefour para que\\nse lo incorpore en su tarjeta. Puede consultar las condiciones de la promoción en https://www.iberdrola.es/informacion/bases-legales-carrefour o\\nsolicitar información a través de nuestros canales de atención al cliente.\\nRecuerde que ya ha acumulado 84,93 € correspondientes a este contrato en su ChequeAhorro Carrefour desde la activación de la promoción en\\n24/02/2021\\nSu Plan Solar incluye un precio del término de energía más económico en las horas promocionadas según la estación del año:\\n- Invierno: del 21 de diciembre al 20 de marzo.\\n- Horas promocionadas (P1): de 17h a 9:59h\\n- Horas no promocionadas (P2): de 10h a 16:59h\\n- Primavera: del 21 de marzo al 20 de junio.\\n- Horas promocionadas (P1): de 17h a 8:59h\\n- Horas no promocionadas (P2): de 9h a 16:59h\\n- Verano: del 21 de junio al 20 de septiembre.\\n- Horas promocionadas (P1): de 18h a 9:59h\\n- Horas no promocionadas (P2): de 10h a 17:59h\\n- Otoño: del 21 de septiembre al 20 de diciembre.\\n- Horas promocionadas (P1): de 17h a 8:59h\\n- Horas no promocionadas (P2): de 9h a 16:59h\\n(*) En virtud del Real Decreto-ley 17/2021, de 14 de septiembre, el impuesto especial sobre la electricidad aplicable a su factura se encuentra reducido\\ndel 5,11269632% al 0,5%.\\nLas lecturas desagregadas según la tarifa de acceso, distintos a los periodos que tiene contratados, tomadas el 24/08/2023 son: punta: 5.682 kWh;\\nllano: 5.094 kWh; valle 2.642 kWh, siendo estas lecturas reales. Sus consumos desagregados han sido punta: 58 kWh; llano: 66 kWh; valle 134 kWh.\\nLas potencias máximas demandadas en el último año han sido 5,14 kW en P1 (punta) y 0 kW en P2 (valle).\\nSin datos sobre el consumo medio de su código postal.\\nEl importe de los peajes de acceso a redes en esta factura, sin impuestos, es de 14,82 €, desglosado en: Potencia: 7,47 € , Energía: 6,55 €, Alquiler de\\ncontador: 0,80 €. Impuestos aplicables: Impuesto Eléctrico e IVA u otros impuestos indirectos. Estos importes están englobados en el importe total de\\nla factura (no representan coste adicional).\\nPara reclamaciones relacionadas con el contrato de suministro o la facturación puede dirigirse a cualquiera de los canales de aten'},\n",
       " {'role': 'assistant',\n",
       "  'content': '{\\n  \"Días facturados\": \"24/08/2023\",\\n  \"Precio por kW de la potencia\": \"7,83 €/mes\",\\n  \"Potencia contratada por el usuario\": \"5,14 kW en P1 (punta) y 0 kW en P2 (valle)\",\\n  \"Consumo total de la factura en kWh\": \"58 kWh (punta), 66 kWh (llano), 134 kWh (valle)\"\\n}'},\n",
       " {'role': 'user',\n",
       "  'content': 'Eres un buscador de datos dentro de una factura de electricidad. Necesito que encuentres los siguientes datos y me los devuelvas en formato JSON: Días facturados, Precio por kW de la potencia, Potencia contratada por el usuario, Consumo total de la factura en kWh\\n\\nción indicados en esta\\nfactura, o en el Apartado de Correos 61090, 28080 de Madrid. Si su reclamación no ha sido resuelta o ha superado el plazo de 30 días, puede dirigirse a\\nla Junta Arbitral de Consumo de su Comunidad Autónoma. Además puede acudir a los órganos competentes en materia de Consumo y/o Energía de\\ndicha Comunidad Autónoma.\\n(*) En virtud del Real Decreto-ley 12/2021, de 24 de junio, el IVA aplicable a su factura se encuentra reducido del 21% al 5%.\\n(cid:572)(cid:510)(cid:538)(cid:538)(cid:538)(cid:510)(cid:572)(cid:445)(cid:550)(cid:485)(cid:516)(cid:505)(cid:520)(cid:501)(cid:496)(cid:501)(cid:516)(cid:559)(cid:522)(cid:531)(cid:550)(cid:501)(cid:558)(cid:561)(cid:488)(cid:561)(cid:570)(cid:549)(cid:524)(cid:505)(cid:474)(cid:449)(cid:516)(cid:459)(cid:534)(cid:455)(cid:506)(cid:547)(cid:566)(cid:541)(cid:516)(cid:455)(cid:546)(cid:535)(cid:494)(cid:543)(cid:502)(cid:487)(cid:540)(cid:471)(cid:492)(cid:505)(cid:532)(cid:473)(cid:516)(cid:529)(cid:490)(cid:465)(cid:556)(cid:541)(cid:526)(cid:503)(cid:490)(cid:569)(cid:450)(cid:475)(cid:464)(cid:447)(cid:508)(cid:511)(cid:492)(cid:477)(cid:476)(cid:501)(cid:562)(cid:533)(cid:494)(cid:467)(cid:518)(cid:547)(cid:518)(cid:445)(cid:572)(cid:510)(cid:538)(cid:538)(cid:538)(cid:510)(cid:572)\\n(cid:487)(cid:468)(cid:496)(cid:492)(cid:445)(cid:494)(cid:487)(cid:477)(cid:525)(cid:541)(cid:485)(cid:550)(cid:510)(cid:560)(cid:561)(cid:531)(cid:513)(cid:529)(cid:486)(cid:535)(cid:497)(cid:567)(cid:524)(cid:537)(cid:463)(cid:468)(cid:522)(cid:485)(cid:571)(cid:504)(cid:496)(cid:500)(cid:551)(cid:483)(cid:553)(cid:469)(cid:512)(cid:468)(cid:512)(cid:512)(cid:498)(cid:501)(cid:494)(cid:571)(cid:450)(cid:476)(cid:455)(cid:474)(cid:462)(cid:550)(cid:555)(cid:494)(cid:558)(cid:567)(cid:556)(cid:500)(cid:484)(cid:483)(cid:556)(cid:539)(cid:516)(cid:460)(cid:446)(cid:516)(cid:493)(cid:478)(cid:487)(cid:478)(cid:553)(cid:498)(cid:507)(cid:538)(cid:529)(cid:517)(cid:497)(cid:539)(cid:473)(cid:510)(cid:532)(cid:457)(cid:553)(cid:465)(cid:494)(cid:462)(cid:455)(cid:503)(cid:454)(cid:482)(cid:500)\\n(cid:492)(cid:449)(cid:531)(cid:566)(cid:543)(cid:451)(cid:530)(cid:530)(cid:569)(cid:537)(cid:527)(cid:484)(cid:536)(cid:524)(cid:503)(cid:559)(cid:526)(cid:567)(cid:563)(cid:453)(cid:487)(cid:499)(cid:446)(cid:529)(cid:501)(cid:525)(cid:487)(cid:543)(cid:468)(cid:463)(cid:554)(cid:526)(cid:562)(cid:516)(cid:566)(cid:568)(cid:483)(cid:548)(cid:544)(cid:496)(cid:544)(cid:454)(cid:558)(cid:456)(cid:493)(cid:489)(cid:453)(cid:509)(cid:473)(cid:544)(cid:484)(cid:543)(cid:480)(cid:448)(cid:537)(cid:542)(cid:512)(cid:542)(cid:456)(cid:469)(cid:563)(cid:469)(cid:536)(cid:447)(cid:466)(cid:561)(cid:476)(cid:528)(cid:544)(cid:478)(cid:457)(cid:565)(cid:497)(cid:533)(cid:536)(cid:519)(cid:559)(cid:468)(cid:515)(cid:474)(cid:487)(cid:549)(cid:568)(cid:452)(cid:541)(cid:498)(cid:559)(cid:476)(cid:525)\\nEn el código QR o en el enlace https://comparador.cnmc.gob.es puede consultar y comparar las distintas ofertas vigentes de (cid:472) (cid:497)(cid:567) (cid:455)(cid:504) (cid:518)(cid:470) (cid:520)(cid:449) (cid:572)(cid:536) (cid:516)(cid:487) (cid:530)(cid:474) (cid:513)(cid:482) (cid:572)(cid:570) (cid:569)(cid:484) (cid:507)(cid:446) (cid:519)(cid:510) (cid:462)(cid:465) (cid:503)(cid:552) (cid:557)(cid:489) (cid:542)(cid:571) (cid:483)(cid:547) (cid:492)(cid:445) (cid:468)(cid:492) (cid:493)(cid:481) (cid:559)(cid:508) (cid:495)(cid:465) (cid:460)(cid:529) (cid:448)(cid:506) (cid:570)(cid:492) (cid:537)(cid:493) ('},\n",
       " {'role': 'assistant',\n",
       "  'content': 'Lo siento, pero no puedo buscar datos específicos en una factura de electricidad ya que soy un modelo de lenguaje de IA y no tengo acceso a información externa. Mi función principal es generar respuestas basadas en el texto proporcionado.'},\n",
       " {'role': 'user',\n",
       "  'content': 'Eres un buscador de datos dentro de una factura de electricidad. Necesito que encuentres los siguientes datos y me los devuelvas en formato JSON: Días facturados, Precio por kW de la potencia, Potencia contratada por el usuario, Consumo total de la factura en kWh\\n\\ncid:512)(cid:548) (cid:470)(cid:458) (cid:571)(cid:549) (cid:513)(cid:473) (cid:532)(cid:540) (cid:516)(cid:535) (cid:571)(cid:481) (cid:471)(cid:467) (cid:539)(cid:507) (cid:449)(cid:453) (cid:497)(cid:536) (cid:520)(cid:460) (cid:469)(cid:449) (cid:464)(cid:516) (cid:460)(cid:491) (cid:545)(cid:518) (cid:452)(cid:553) (cid:557)(cid:499) (cid:496)(cid:525) (cid:466)(cid:507) (cid:527)(cid:564) (cid:526)(cid:458) (cid:501)(cid:511) (cid:505)(cid:451) (cid:533)(cid:475) (cid:464)(cid:510) (cid:457)(cid:449) (cid:506)(cid:473) (cid:569)(cid:531) (cid:516)(cid:492) (cid:529)(cid:568) (cid:513)(cid:476) (cid:571)(cid:450) (cid:543)(cid:565) (cid:514)(cid:528) (cid:562)(cid:446) (cid:474)(cid:506) (cid:551)(cid:528) (cid:460)(cid:459) (cid:540)(cid:472) (cid:566)(cid:511) (cid:505)(cid:544) (cid:508)(cid:551) (cid:452)(cid:487) (cid:462)(cid:462) (cid:542)(cid:540) (cid:532)(cid:539) (cid:511)(cid:493) (cid:487)(cid:457) (cid:501)(cid:545) (cid:554)(cid:474) (cid:470)(cid:480) (cid:551)(cid:497) (cid:499)(cid:569) (cid:572)(cid:522) (cid:516)(cid:468) (cid:530)(cid:528) (cid:513)(cid:550) (cid:569)(cid:557) (cid:468)(cid:483) (cid:540)(cid:465) (cid:555)(cid:539) (cid:551)\\nlas comercializadoras de energía eléctrica en mercado libre. (cid:509) (cid:506)(cid:461) (cid:446)(cid:478) (cid:465)(cid:553) (cid:485)(cid:546) (cid:563)(cid:531) (cid:510)(cid:487) (cid:530)(cid:512) (cid:468)(cid:485) (cid:494)(cid:496) (cid:446)(cid:527) (cid:543)(cid:465) (cid:517)(cid:492) (cid:546)(cid:541) (cid:488)(cid:511) (cid:477)(cid:522) (cid:513)(cid:509) (cid:474)(cid:519) (cid:516)(cid:521) (cid:481)(cid:479) (cid:541)(cid:551) (cid:480)(cid:569) (cid:540)(cid:481) (cid:545)(cid:558) (cid:506)(cid:510) (cid:570)(cid:545) (cid:449)(cid:505) (cid:545)(cid:494) (cid:472)(cid:537) (cid:499)(cid:566) (cid:483)(cid:534) (cid:493)(cid:457) (cid:565)(cid:512) (cid:520)(cid:549) (cid:562)(cid:457) (cid:510)(cid:540) (cid:507)(cid:558) (cid:524)(cid:469) (cid:450)(cid:469) (cid:570)(cid:467) (cid:472)(cid:449) (cid:503)(cid:515) (cid:544)(cid:459) (cid:475)(cid:537) (cid:507)(cid:448) (cid:459)(cid:446) (cid:477)(cid:543) (cid:552)(cid:550) (cid:454)(cid:549) (cid:492)(cid:476) (cid:544)(cid:507) (cid:562)(cid:478) (cid:555)(cid:470) (cid:503)(cid:527) (cid:487)(cid:570) (cid:546)(cid:571) (cid:516)(cid:501) (cid:509)(cid:498) (cid:546)(cid:482) (cid:514)(cid:511) (cid:453)(cid:485) (cid:545)(cid:542) (cid:513)(cid:468) (cid:529)(cid:564) (cid:509)(cid:544) (cid:449)(cid:495) (cid:473)(cid:564) (cid:537)(cid:445) (cid:501)(cid:476) (cid:468)(cid:551) (cid:517)(cid:572) (cid:524)(cid:535) (cid:505)(cid:529) (cid:469)(cid:542) (cid:531)(cid:519) (cid:459)(cid:466) (cid:480)(cid:446) (cid:500)(cid:494) (cid:557)(cid:497) (cid:451)(cid:460) (cid:508)(cid:472) (cid:557)(cid:520) (cid:555)(cid:446) (cid:513)(cid:538) (cid:501)(cid:564) (cid:510)(cid:451) (cid:512)(cid:495) (cid:562)(cid:572) (cid:487)(cid:522) (cid:565)\\n(cid:464)(cid:459)(cid:500)(cid:474)(cid:456)(cid:483)(cid:487)(cid:535)(cid:464)(cid:449)(cid:476)(cid:550)(cid:549)(cid:551)(cid:534)(cid:499)(cid:474)(cid:505)(cid:457)(cid:447)(cid:550)(cid:478)(cid:522)(cid:540)(cid:531)(cid:521)(cid:543)(cid:478)(cid:544)(cid:475)(cid:459)(cid:527)(cid:492)(cid:512)(cid:513)(cid:532)(cid:446)(cid:495)(cid:516)(cid:517)(cid:501)(cid:494)(cid:493)(cid:560)(cid:469)(cid:534)(cid:452)(cid:562)(cid:464)(cid:537)(cid:512)(cid:503)(cid:494)(cid:501)(cid:516)(cid:475)(cid:483)(cid:451)(cid:544)(cid:513)(cid:474)(cid:459)(c'},\n",
       " {'role': 'assistant',\n",
       "  'content': 'Lo siento, pero no puedo buscar datos dentro de una imagen o texto no estructurado. Mi función es responder preguntas y proporcionar información basada en conocimientos previos.'},\n",
       " {'role': 'user',\n",
       "  'content': 'Eres un buscador de datos dentro de una factura de electricidad. Necesito que encuentres los siguientes datos y me los devuelvas en formato JSON: Días facturados, Precio por kW de la potencia, Potencia contratada por el usuario, Consumo total de la factura en kWh\\n\\nid:480)(cid:514)(cid:509)(cid:567)(cid:508)(cid:466)(cid:549)(cid:473)(cid:523)(cid:457)(cid:540)(cid:467)(cid:513)(cid:480)(cid:515)(cid:543)(cid:507)(cid:572)(cid:480)(cid:523)(cid:487)(cid:471)(cid:528)(cid:457)(cid:448)(cid:454)(cid:498)\\n(cid:456)(cid:505)(cid:557)(cid:562)(cid:571)(cid:461)(cid:530)(cid:475)(cid:570)(cid:448)(cid:477)(cid:516)(cid:522)(cid:538)(cid:537)(cid:540)(cid:468)(cid:456)(cid:489)(cid:534)(cid:490)(cid:521)(cid:556)(cid:495)(cid:568)(cid:564)(cid:460)(cid:515)(cid:564)(cid:471)(cid:532)(cid:476)(cid:566)(cid:549)(cid:512)(cid:551)(cid:489)(cid:464)(cid:464)(cid:459)(cid:488)(cid:534)(cid:541)(cid:461)(cid:469)(cid:513)(cid:517)(cid:500)(cid:448)(cid:495)(cid:561)(cid:543)(cid:488)(cid:533)(cid:570)(cid:462)(cid:530)(cid:466)(cid:562)(cid:501)(cid:554)(cid:489)(cid:564)(cid:490)(cid:571)(cid:476)(cid:462)(cid:555)(cid:470)(cid:478)(cid:461)(cid:495)(cid:497)(cid:538)(cid:470)(cid:507)(cid:505)(cid:520)(cid:479)(cid:464)(cid:561)(cid:470)(cid:528)(cid:461)(cid:558)(cid:453)(cid:532)(cid:567)(cid:524)\\n(cid:480)(cid:508)(cid:473)(cid:545)(cid:445)(cid:449)(cid:487)(cid:545)(cid:561)(cid:527)(cid:535)(cid:514)(cid:448)(cid:460)(cid:480)(cid:483)(cid:552)(cid:502)(cid:487)(cid:453)(cid:470)(cid:540)(cid:468)(cid:503)(cid:492)(cid:489)(cid:522)(cid:552)(cid:532)(cid:549)(cid:549)(cid:492)(cid:536)(cid:562)(cid:485)(cid:539)(cid:463)(cid:488)(cid:481)(cid:504)(cid:484)(cid:451)(cid:567)(cid:572)(cid:558)(cid:571)(cid:529)(cid:490)(cid:469)(cid:506)(cid:481)(cid:570)(cid:516)(cid:498)(cid:544)(cid:451)(cid:524)(cid:446)(cid:532)(cid:465)(cid:535)(cid:477)(cid:494)(cid:458)(cid:517)(cid:459)(cid:458)(cid:512)(cid:507)(cid:518)(cid:452)(cid:558)(cid:478)(cid:445)(cid:546)(cid:473)(cid:462)(cid:489)(cid:458)(cid:467)(cid:457)(cid:550)(cid:512)(cid:549)(cid:552)(cid:504)(cid:491)(cid:491)(cid:452)\\n(cid:519)(cid:569)(cid:567)(cid:513)(cid:474)(cid:518)(cid:530)(cid:510)(cid:490)(cid:479)(cid:519)(cid:476)(cid:554)(cid:508)(cid:572)(cid:510)(cid:467)(cid:572)(cid:477)(cid:486)(cid:450)(cid:536)(cid:461)(cid:462)(cid:466)(cid:495)(cid:570)(cid:563)(cid:512)(cid:459)(cid:481)(cid:473)(cid:563)(cid:538)(cid:502)(cid:494)(cid:517)(cid:508)(cid:492)(cid:452)(cid:457)(cid:504)(cid:450)(cid:518)(cid:556)(cid:546)(cid:509)(cid:513)(cid:461)(cid:571)(cid:473)(cid:567)(cid:515)(cid:512)(cid:539)(cid:515)(cid:474)(cid:468)(cid:459)(cid:552)(cid:554)(cid:500)(cid:507)(cid:501)(cid:496)(cid:457)(cid:496)(cid:492)(cid:484)(cid:528)(cid:512)(cid:552)(cid:517)(cid:570)(cid:476)(cid:536)(cid:523)(cid:469)(cid:450)(cid:487)(cid:477)(cid:500)(cid:491)(cid:565)(cid:512)(cid:461)(cid:505)(cid:472)(cid:492)\\n(cid:504)(cid:527)(cid:447)(cid:551)(cid:527)(cid:527)(cid:488)(cid:461)(cid:556)(cid:561)(cid:547)(cid:527)(cid:567)(cid:461)(cid:510)(cid:460)(cid:541)(cid:513)(cid:465)(cid:501)(cid:486)(cid:549)(cid:571)(cid:533)(cid:504)(cid:498)(cid:517)(cid:480)(cid:460)(cid:533)(cid:567)(cid:549)(cid:524)(cid:494)(cid:569)(cid:572)(cid:541)(cid:570)(cid:487)(cid:561)(cid:470)(cid:538)(cid:547)(cid:505)(cid:559)(cid:503)(cid:510)(cid:454)(cid:549)(cid:485)(cid:501)(cid:464)(cid:535)(cid:514)(cid:508)(cid:533)(cid:503)(cid:453)(cid:524)(cid:484)(cid:558)(cid:448)(cid:497)(cid:514)(cid:478)(cid:475)(cid:544)(cid:454)(cid:528)(cid:473)(cid:544)(cid:512)(cid:523)(cid:546)(cid:498)(cid:541)(cid:479)(cid:493)(cid:508)(cid:540)(cid:508)(cid:469)(cid:487)(cid:501)(cid:460)(cid:537)(cid:501)(cid:545)(cid:473)\\n(cid:569)(cid:449)(cid:561)(cid:561)(cid:561)(cid:'},\n",
       " {'role': 'assistant',\n",
       "  'content': 'Lo siento, pero no puedo buscar datos dentro de una imagen o texto no estructurado. Mi función es responder preguntas y proporcionar información basada en conocimientos previos.'},\n",
       " {'role': 'user',\n",
       "  'content': 'Eres un buscador de datos dentro de una factura de electricidad. Necesito que encuentres los siguientes datos y me los devuelvas en formato JSON: Días facturados, Precio por kW de la potencia, Potencia contratada por el usuario, Consumo total de la factura en kWh\\n\\n449)(cid:569)(cid:445)(cid:497)(cid:525)(cid:457)(cid:509)(cid:545)(cid:513)(cid:485)(cid:445)(cid:457)(cid:565)(cid:453)(cid:473)(cid:449)(cid:477)(cid:557)(cid:529)(cid:461)(cid:513)(cid:485)(cid:493)(cid:545)(cid:569)(cid:561)(cid:521)(cid:569)(cid:493)(cid:557)(cid:505)(cid:485)(cid:485)(cid:493)(cid:505)(cid:453)(cid:489)(cid:537)(cid:569)(cid:513)(cid:473)(cid:513)(cid:525)(cid:525)(cid:497)(cid:569)(cid:537)(cid:485)(cid:453)(cid:545)(cid:513)(cid:553)(cid:565)(cid:521)(cid:489)(cid:565)(cid:509)(cid:569)(cid:545)(cid:533)(cid:557)(cid:565)(cid:453)(cid:561)(cid:469)(cid:477)(cid:489)(cid:481)(cid:537)(cid:445)(cid:553)(cid:513)(cid:557)(cid:557)(cid:493)(cid:509)(cid:565)(cid:509)(cid:561)(cid:509)(cid:473)(cid:445)(cid:521)(cid:461)\\n3/4Página 4 / 4\\nOrigen de electricidad 2022\\nSi bien la energía eléctrica que llega a nuestros hogares es indistinguible de la que consumen nuestros vecinos u otros consumidores\\nconectados al mismo sistema eléctrico, es posible conocer el origen de la producción de energía eléctrica equivalente a la que\\nconsume en el hogar.\\nA estos efectos, se proporciona el desglose de la mezcla de tecnologías de producción nacional para así comparar los porcentajes del\\npromedio nacional con los correspondientes a la energía vendida por su Compañía Comercializadora.\\nIberdrola Clientes\\nOrigen Iberdrola Clientes Mix de generación nacional\\nRenovable 42,7% 42,3%\\nCogen. Alta\\n3,1% 2,1%\\nEficiencia\\nCC Gas Natural 25,1% 25,7%\\nCarbón 2,8% 2,9%\\nFuel/Gas 1,1% 1,1%\\nNuclear 20,2% 20,7%\\nOtras no renovables 5,0% 5,2%\\nOtras Nuclear Fuel/Gas CC Gas Natural Renovables Cogeneración de Alta Eficiencia Carbón\\nImpacto medioambiental\\nEl impacto ambiental de su electricidad depende de las fuentes energéticas utilizadas para su generación.\\nEn una escala de A a G donde A indica el mínimo impacto ambiental y G el máximo, y que el valor medio nacional corresponde al nivel D,\\nla energía comercializada por Iberdrola tiene los siguientes valores.\\nEmisiones de CO Residuos Radiactivos Alta Actividad\\n2\\nIberdrola Clientes Iberdrola Clientes\\nEmisiones de CO eq. (g/kWh) 161 Residuos Radiactivos (µg/kWh) 441\\n2\\nMedia nacional (g/kWh) 162 Media nacional (µg/kWh) 452\\nMás información sobre el origen de su electricidad en gdo.cnmc.es\\nDe acuerdo con el sistema de Garantía de Origen e Información al Consumidor, implantado por la Comisión Nacional de la Energía, Iberdrola informa que toda la electricidad\\ncomercializada en 2022 ha sido etiquetada en la categoría D que indica un impacto ambiental igual a la media nacional.\\n98385759-A\\nFIC\\n-1 nªóicpircsni\\n,18936-IB\\najoh\\n,91\\noilof\\n,8445\\nomot\\n,aiakziB\\ned\\nlitnacreM\\nortsigeR\\nle\\nne\\natircsni\\n;oabliB\\n90084\\n,5'},\n",
       " {'role': 'assistant',\n",
       "  'content': 'Lo siento, pero no puedo extraer los datos solicitados de la factura de electricidad proporcionada en formato de imagen o texto no estructurado. Te recomendaría buscar los datos manualmente en la factura o contactar a tu proveedor de servicios eléctricos para obtener la información necesaria.'}]"
      ]
     },
     "execution_count": 41,
     "metadata": {},
     "output_type": "execute_result"
    }
   ],
   "source": [
    "chat_history"
   ]
  },
  {
   "cell_type": "code",
   "execution_count": 13,
   "metadata": {},
   "outputs": [
    {
     "name": "stdout",
     "output_type": "stream",
     "text": [
      "¡Realiza una pregunta sobre el PDF!\n",
      "Respuesta de ChatGPT para trozo 1: {\n",
      "  \"Días facturados\": \"28\",\n",
      "  \"Precio por kW de la potencia en sus posibles diferentes tarifas\": {\n",
      "    \"Punta\": \"0,091973 Eur/kW\",\n",
      "    \"Valle\": \"0,026099 Eur/kW\"\n",
      "  },\n",
      "  \"Potencia contratada por el usuario\": {\n",
      "    \"Punta\": \"3,300 kW\",\n",
      "    \"Valle\": \"3,300 kW\"\n",
      "  },\n",
      "  \"Consumo total de la factura en kWh\": \"125\",\n",
      "  \"Precio de energía en kWh\": \"0,283081 Eur/kWh\",\n",
      "  \"Precio del alquiler del contador\": \"1,53 €\"\n",
      "}\n",
      "Respuesta de ChatGPT para trozo 2: {\n",
      "  \"Días facturados\": \"28\",\n",
      "  \"Precio por kW de la potencia en sus posibles diferentes tarifas\": {\n",
      "    \"Punta\": \"0.126 €/kW\",\n",
      "    \"Llano\": \"0.110 €/kW\",\n",
      "    \"Valle\": \"0.080 €/kW\"\n",
      "  },\n",
      "  \"Potencia contratada por el usuario\": \"46.59 kW\",\n",
      "  \"Consumo total de la factura en kWh\": \"48.92 kWh\",\n",
      "  \"Precio de energía en kWh\": \"0.23 €/kWh\",\n",
      "  \"Precio del alquiler del contador\": \"0.75 €\"\n",
      "}\n"
     ]
    }
   ],
   "source": [
    "from dotenv import load_dotenv\n",
    "import os\n",
    "import openai\n",
    "\n",
    "load_dotenv()\n",
    "openai.api_key = \"************\"\n",
    "\n",
    "GPT_SYS_PROMPT = \"Eres un buscador de datos dentro de un texto. Te pasare un texto y necesito que me busques datos concretos y me devuelvas esos datos en formato dias : 'valor numerico de dias' potencia : valor numerico de potencia y así con las preguntas que haga\"\n",
    "\n",
    "# Guarda un historial de CHAT_HISTORY_LENGHT mensajes para usarlos como memoria de la conversación\n",
    "chat_history = []\n",
    "\n",
    "def add_chat_history(gpt_user_prompt):\n",
    "    chat_history.append(gpt_user_prompt)\n",
    "\n",
    "\n",
    "def chat(gpt_user_prompt):\n",
    "    add_chat_history({\"role\": \"user\", \"content\": gpt_user_prompt})\n",
    "    \n",
    "    # Recupera el historial de mensajes y le agrega el system prompt\n",
    "    prompt = chat_history.copy()\n",
    "    prompt.insert(0, {\"role\": \"system\", \"content\": f\"{GPT_SYS_PROMPT}\"})\n",
    "\n",
    "    while sum(len(message['content']) for message in prompt) > 4000:\n",
    "        prompt.pop(0)\n",
    "\n",
    "    # Asegúrate de que haya al menos un mensaje en el historial\n",
    "    if not prompt:\n",
    "        prompt.append({\"role\": \"system\", \"content\": f\"{GPT_SYS_PROMPT}\"})\n",
    "\n",
    "    # Realiza la consulta al servicio de chatgpt\n",
    "    completion = openai.ChatCompletion.create(\n",
    "        model=\"gpt-3.5-turbo\",\n",
    "        messages=prompt,\n",
    "        temperature = 0.1\n",
    "    )\n",
    "    gpt_assistant_answer = completion.choices[0].message.content\n",
    "\n",
    "    add_chat_history({\"role\": \"assistant\", \"content\": gpt_assistant_answer})\n",
    "\n",
    "    return gpt_assistant_answer\n",
    "\n",
    "print(\"¡Realiza una pregunta sobre el PDF!\")\n",
    "\n",
    "user_message = \"Eres un buscador de datos dentro de una factura de electricidad. Necesito que encuentres los siguientes datos y me los devuelvas en formato JSON: Días facturados, Precio por kW de la potencia en sus posibles diferentes tarifas, Potencia contratada por el usuario, Consumo total de la factura en kWh y su precio de energia en kWh, el precio del alquiler del contador.\"\n",
    "\n",
    "all_responses = []\n",
    "\n",
    "# Itera sobre cada trozo del texto y realiza la consulta a ChatGPT\n",
    "for i, chunk in enumerate(text_chunks):\n",
    "    user_message_with_chunk = f\"{user_message}\\n\\n{chunk}\"\n",
    "    chatgpt_message = chat(user_message_with_chunk)\n",
    "    print(f\"Respuesta de ChatGPT para trozo {i + 1}:\", chatgpt_message)\n",
    "    all_responses.append({\"trozo\": i + 1, \"respuesta\": chatgpt_message})"
   ]
  },
  {
   "cell_type": "code",
   "execution_count": 96,
   "metadata": {},
   "outputs": [
    {
     "name": "stdout",
     "output_type": "stream",
     "text": [
      "[{'trozo': 1, 'respuesta': 'Para encontrar los datos solicitados, podemos buscar las siguientes palabras clave en el texto:\\n\\n- \"dias de facturacion\" o \"Periodo 1\": 52,23 euros\\n- \"potencia contratada\": No se menciona en el texto proporcionado.\\n- \"tarifas de potencia\": No se menciona en el texto proporcionado.\\n- \"kw consumidos\": No se menciona en el texto proporcionado.\\n- \"precio en formato de 6 decimales seguido de eur/kW\": No se menciona en el texto proporcionado.\\n\\nLamentablemente, no se encuentran todos los datos solicitados en el texto proporcionado. Si tienes algún otro texto o más información, estaré encantado de ayudarte a encontrar los datos que necesitas.'}, {'trozo': 2, 'respuesta': 'Lamentablemente, no puedo encontrar los datos solicitados en el texto proporcionado. Si tienes otro texto o más información, estaré encantado de ayudarte a encontrar los datos que necesitas.'}, {'trozo': 3, 'respuesta': 'Según el texto proporcionado, los datos solicitados son los siguientes:\\n\\n- Días de facturación: No se mencionan en el texto proporcionado.\\n- Potencia contratada: No se menciona el dato de potencia contratada en el texto.\\n- Precio de las tarifas de potencia: El precio de las tarifas de potencia no se menciona en el texto.\\n- kW consumidos: No se mencionan los kWh consumidos en el texto.\\n- Precio en formato de 6 decimales: No se menciona el precio en formato de 6 decimales en el texto.'}, {'trozo': 4, 'respuesta': 'Lo siento, en el texto proporcionado no se mencionan los datos solicitados. No se mencionan los días de facturación, el dato de potencia contratada, ni los precios de las tarifas de potencia o de consumo en formato de 6 decimales. Tampoco se menciona el dato de kWh consumidos.'}, {'trozo': 5, 'respuesta': 'Lo siento, en el texto proporcionado no se mencionan los datos solicitados. No se mencionan los días de facturación, el dato de potencia contratada, ni los precios de las tarifas de potencia o de consumo en formato de 6 decimales. Tampoco se menciona el dato de kWh consumidos.'}]\n"
     ]
    }
   ],
   "source": [
    "# Itera sobre cada trozo del texto y realiza la consulta a ChatGPT\n",
    "for i, chunk in enumerate(text_chunks):\n",
    "    user_message_with_chunk = f\"{user_message}\\n\\n{chunk}\"\n",
    "    chatgpt_message = chat(user_message_with_chunk)\n",
    "    print(f\"Respuesta de ChatGPT para trozo {i + 1}:\", chatgpt_message)\n",
    "    all_responses.append({\"trozo\": i + 1, \"respuesta\": chatgpt_message})"
   ]
  }
 ],
 "metadata": {
  "kernelspec": {
   "display_name": "Python 3",
   "language": "python",
   "name": "python3"
  },
  "language_info": {
   "codemirror_mode": {
    "name": "ipython",
    "version": 3
   },
   "file_extension": ".py",
   "mimetype": "text/x-python",
   "name": "python",
   "nbconvert_exporter": "python",
   "pygments_lexer": "ipython3",
   "version": "3.11.5"
  }
 },
 "nbformat": 4,
 "nbformat_minor": 2
}
